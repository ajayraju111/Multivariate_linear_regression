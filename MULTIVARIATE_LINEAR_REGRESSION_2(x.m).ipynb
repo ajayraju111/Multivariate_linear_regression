{
 "cells": [
  {
   "cell_type": "code",
   "execution_count": 12,
   "metadata": {},
   "outputs": [],
   "source": [
    "import pandas as pd\n",
    "import numpy as np\n",
    "import matplotlib.pyplot as plt\n",
    "import random \n",
    "from IPython.display import clear_output\n",
    "\n"
   ]
  },
  {
   "cell_type": "code",
   "execution_count": 13,
   "metadata": {},
   "outputs": [],
   "source": [
    "data=pd.read_csv(\"USA_housing.csv\")"
   ]
  },
  {
   "cell_type": "code",
   "execution_count": 14,
   "metadata": {},
   "outputs": [
    {
     "data": {
      "text/plain": [
       "Index(['Avg. Area Income', 'Avg. Area House Age', 'Avg. Area Number of Rooms',\n",
       "       'Avg. Area Number of Bedrooms', 'Area Population', 'Price', 'Address'],\n",
       "      dtype='object')"
      ]
     },
     "execution_count": 14,
     "metadata": {},
     "output_type": "execute_result"
    }
   ],
   "source": [
    "data.columns\n"
   ]
  },
  {
   "cell_type": "code",
   "execution_count": 15,
   "metadata": {},
   "outputs": [],
   "source": [
    "target_var=data['Price']\n",
    "target_var=np.array(target_var)\n",
    "target_var=np.reshape(len(target_var),1)\n",
    "\n",
    "\n",
    "data=data.drop('Address',axis=1)\n",
    "features=data.drop(['Price'],axis=1)\n"
   ]
  },
  {
   "cell_type": "code",
   "execution_count": 16,
   "metadata": {},
   "outputs": [],
   "source": [
    "data=data.dropna(axis=0)"
   ]
  },
  {
   "cell_type": "code",
   "execution_count": 17,
   "metadata": {},
   "outputs": [
    {
     "name": "stdout",
     "output_type": "stream",
     "text": [
      "target variable shape: (1,)\n",
      "features variable shape: (5000, 5)\n"
     ]
    }
   ],
   "source": [
    "print(\"target variable shape:\",target_var.shape)\n",
    "print(\"features variable shape:\",features .shape)"
   ]
  },
  {
   "cell_type": "code",
   "execution_count": 18,
   "metadata": {},
   "outputs": [],
   "source": [
    "features=data.drop(['Price'],axis=1)\n",
    "features=np.array(features)"
   ]
  },
  {
   "cell_type": "code",
   "execution_count": 19,
   "metadata": {},
   "outputs": [],
   "source": [
    "def line_multidim(m,x,c):\n",
    "    return np.dot(x,m) +c\n",
    "def error(m,x,c,y):\n",
    "    return np.mean((line_multidim(m,x,c)-y)**2)\n",
    "def derivative_intercept(m,x,c,y):\n",
    "    return 2*np.mean(line_multidim(m,x,c)-y)\n",
    "def acc_pred(error,y):\n",
    "    return 100-((error)/np.mean(y**2)*100)\n",
    "\n"
   ]
  },
  {
   "cell_type": "code",
   "execution_count": 20,
   "metadata": {},
   "outputs": [],
   "source": [
    "def derivative_slopes(m,x,c,y):\n",
    "    l=line_multidim(m,x,c)-y\n",
    "    l=np.array(l)\n",
    "    slopes=2*np.mean(np.multiply(l.T, x.T),axis=1)\n",
    "    slopes=np.array(slopes)\n",
    "    return slopes.T\n"
   ]
  },
  {
   "cell_type": "code",
   "execution_count": 21,
   "metadata": {},
   "outputs": [],
   "source": [
    "#normlisation\n",
    "features=features/features.max()\n",
    "target_var=target_var/target_var.max()\n"
   ]
  },
  {
   "cell_type": "code",
   "execution_count": 23,
   "metadata": {},
   "outputs": [
    {
     "name": "stdout",
     "output_type": "stream",
     "text": [
      "current error: 0.0002387187736442281\n",
      "current error acurracy: 99.97612812263557\n"
     ]
    },
    {
     "data": {
      "image/png": "[encoded data removed]",
      "text/plain": [
       "<Figure size 432x288 with 1 Axes>"
      ]
     },
     "metadata": {
      "needs_background": "light"
     },
     "output_type": "display_data"
    }
   ],
   "source": [
    "m=np.random.randn()\n",
    "c=random.random()\n",
    "lr=0.001\n",
    "cost=[]\n",
    "for i in range(0,2000):\n",
    "    m=m-lr*derivative_slopes(m,features,c,target_var)\n",
    "    c=c-lr*derivative_intercept(m,features,c,target_var)\n",
    "    cost.append(error(m,features,c,target_var))\n",
    "    clear_output(True)\n",
    "\n",
    "    \n",
    "    print(\"current error:\" ,error(m,features,c,target_var))\n",
    "    print(\"current error acurracy:\",acc_pred(error(m,features,c,target_var),target_var)) \n",
    "    \n",
    "plt.plot(cost)\n",
    "plt.show()\n",
    "\n",
    "    "
   ]
  },
  {
   "cell_type": "code",
   "execution_count": null,
   "metadata": {},
   "outputs": [],
   "source": []
  },
  {
   "cell_type": "code",
   "execution_count": null,
   "metadata": {},
   "outputs": [],
   "source": []
  }
 ],
 "metadata": {
  "kernelspec": {
   "display_name": "Python 3",
   "language": "python",
   "name": "python3"
  },
  "language_info": {
   "codemirror_mode": {
    "name": "ipython",
    "version": 3
   },
   "file_extension": ".py",
   "mimetype": "text/x-python",
   "name": "python",
   "nbconvert_exporter": "python",
   "pygments_lexer": "ipython3",
   "version": "3.7.3"
  }
 },
 "nbformat": 4,
 "nbformat_minor": 2
}
